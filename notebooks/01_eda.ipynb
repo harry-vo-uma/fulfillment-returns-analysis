{
 "nbformat": 4,
 "nbformat_minor": 5,
 "metadata": {},
 "cells": [
  {
   "cell_type": "markdown",
   "metadata": {},
   "source": "# Quick EDA for Synthetic Returns Data"
  },
  {
   "cell_type": "code",
   "execution_count": null,
   "metadata": {},
   "outputs": [],
   "source": "import pandas as pd\nimport matplotlib.pyplot as plt\n\ndf = pd.read_csv('data/raw/returns_sample.csv')\ndf.head()"
  },
  {
   "cell_type": "code",
   "execution_count": null,
   "metadata": {},
   "outputs": [],
   "source": "(df['return_reason']\n   .replace({'': 'No Return'})\n   .value_counts()\n   .plot(kind='bar', figsize=(6,4), title='Return Reason Distribution'))\nplt.ylabel('Count')\nplt.tight_layout()"
  }
 ]
}

