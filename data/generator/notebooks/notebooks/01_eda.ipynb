
{
  "nbformat": 4,
  "nbformat_minor": 5,
  "metadata": {},
  "cells": [
    {
      "cell_type": "markdown",
      "metadata": {},
      "source": "# Quick EDA for Synthetic Returns Data\nThis notebook loads the synthetic CSV and shows a preview plus a simple bar chart of return reasons."
    },
    {
      "cell_type": "code",
      "execution_count": null,
      "metadata": {},
      "outputs": [],
      "source": "import pandas as pd\nimport matplotlib.pyplot as plt\n\n# Load data\ndf = pd.read_csv('data/raw/returns_sample.csv')\ndf.head()"
    },
    {
      "cell_type": "code",
      "execution_count": null,
      "metadata": {},
      "outputs": [],
      "source": "# Plot return-reason counts\n(df['return_reason']\n   .replace({'': 'No Return'})\n   .value_counts()\n   .plot(kind='bar', figsize=(6,4), title='Return Reason Distribution'))\nplt.ylabel('Count')\nplt.tight_layout()"
    }
  ]
}
